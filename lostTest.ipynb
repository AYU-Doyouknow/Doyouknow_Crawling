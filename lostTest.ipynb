{
 "cells": [
  {
   "cell_type": "code",
   "execution_count": null,
   "id": "c932a547",
   "metadata": {},
   "outputs": [
    {
     "name": "stdout",
     "output_type": "stream",
     "text": [
      "Notices successfully added.\n"
     ]
    }
   ],
   "source": [
    "import requests\n",
    "from bs4 import BeautifulSoup\n",
    "\n",
    "url = \"https://www.anyang.ac.kr/main/communication/lost-found.do?mode=list&&articleLimit=30\"\n",
    "url_main = \"https://www.anyang.ac.kr/main/communication/lost-found.do\"\n",
    "\n",
    "html_text = requests.get(url)\n",
    "\n",
    "html = BeautifulSoup(html_text.text, \"html.parser\")\n",
    "html_lost = html.select('#cms-content > div > div > div.bn-list-common01.type01.bn-common > table > tbody > tr')\n",
    "\n",
    "lost_list = []\n",
    "\n",
    "for i in range(len(html_lost) - 1, 0, -1):\n",
    "    lost = html.select(f'#cms-content > div > div > div.bn-list-common01.type01.bn-common > table > tbody > tr:nth-child({i})')\n",
    "\n",
    "    if lost:\n",
    "        lost = lost[0]\n",
    "        lost_ID = lost.select_one(\"td.b-num-box\").text.strip()\n",
    "\n",
    "        title_element = lost.select_one('td.b-td-left.b-td-title > div > a')\n",
    "        title = title_element.get('title') if title_element else \"No title\"\n",
    "        title = title.replace(\" 자세히 보기\", \"\")\n",
    "        link_add = title_element.get(\"href\") if title_element else \"#\"\n",
    "        link = url_main + link_add\n",
    "\n",
    "        writer = lost.select_one('td:nth-child(3)').text.strip() if lost.select_one('td:nth-child(3)') else \"No writer\"\n",
    "        date = lost.select_one('td:nth-child(4)').text.strip() if lost.select_one('td:nth-child(4)') else \"No date\"\n",
    "        views = lost.select_one('td:nth-child(5)').text.strip() if lost.select_one('td:nth-child(5)') else \"No views\"\n",
    "\n",
    "        try:\n",
    "            html_text_2 = requests.get(link)\n",
    "            html_2 = BeautifulSoup(html_text_2.text, \"html.parser\")\n",
    "            body = html_2.select_one(\".b-content-box\")\n",
    "\n",
    "        except requests.RequestException as e:\n",
    "            print(f\"Error fetching {link}: {e}\")\n",
    "\n",
    "        lost_list.append({\n",
    "            \"id\" : lost_ID,\n",
    "            \"lostTitle\": str(title),\n",
    "            \"lostWriter\": str(writer),\n",
    "            \"lostLink\": str(link),\n",
    "            \"lostDate\": str(date),\n",
    "            \"lostViews\": str(views),\n",
    "            \"lostBody\" : str(body),\n",
    "        })\n",
    "\n",
    "api_url = \"http://localhost:8080/lost/addLost\"\n",
    "response = requests.post(api_url, json=lost_list)\n",
    "\n",
    "if response.status_code == 201:\n",
    "    print(\"Notices successfully added.\")\n",
    "else:\n",
    "    print(\"Failed to add notices.\")\n"
   ]
  }
 ],
 "metadata": {
  "kernelspec": {
   "display_name": "Python 3",
   "language": "python",
   "name": "python3"
  },
  "language_info": {
   "codemirror_mode": {
    "name": "ipython",
    "version": 3
   },
   "file_extension": ".py",
   "mimetype": "text/x-python",
   "name": "python",
   "nbconvert_exporter": "python",
   "pygments_lexer": "ipython3",
   "version": "3.13.2"
  }
 },
 "nbformat": 4,
 "nbformat_minor": 5
}
