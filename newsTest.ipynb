{
 "cells": [
  {
   "cell_type": "code",
   "execution_count": 7,
   "id": "7a88d1a6",
   "metadata": {},
   "outputs": [
    {
     "name": "stdout",
     "output_type": "stream",
     "text": [
      "Notices successfully added.\n"
     ]
    }
   ],
   "source": [
    "import requests\n",
    "from bs4 import BeautifulSoup\n",
    "\n",
    "url = \"https://www.anyang.ac.kr/main/communication/school-news.do?mode=list&&articleLimit=800\"\n",
    "url_main = \"https://www.anyang.ac.kr/main/communication/school-news.do\"\n",
    "\n",
    "html_text = requests.get(url)\n",
    "\n",
    "html = BeautifulSoup(html_text.text, \"html.parser\")\n",
    "html_news = html.select('#cms-content > div > div > div.bn-list-common01.type01.bn-common > table > tbody > tr')\n",
    "\n",
    "news_list = []\n",
    "\n",
    "for i in range(len(html_news) - 1, 0, -1):\n",
    "    news = html.select(f'#cms-content > div > div > div.bn-list-common01.type01.bn-common > table > tbody > tr:nth-child({i})')\n",
    "\n",
    "    if news:\n",
    "        news = news[0]\n",
    "        news_ID = news.select_one(\"td.b-num-box\").text.strip()\n",
    "\n",
    "        title_element = news.select_one('td.b-td-left.b-td-title > div > a')\n",
    "        title = title_element.get('title') if title_element else \"No title\"\n",
    "        title = title.replace(\" 자세히 보기\", \"\")\n",
    "        link_add = title_element.get(\"href\") if title_element else \"#\"\n",
    "        link = url_main + link_add\n",
    "\n",
    "        writer = news.select_one('td:nth-child(3)').text.strip() if news.select_one('td:nth-child(3)') else \"No writer\"\n",
    "        date = news.select_one('td:nth-child(4)').text.strip() if news.select_one('td:nth-child(4)') else \"No date\"\n",
    "        views = news.select_one('td:nth-child(5)').text.strip() if news.select_one('td:nth-child(5)') else \"No views\"\n",
    "\n",
    "        try:\n",
    "            html_text_2 = requests.get(link)\n",
    "            html_2 = BeautifulSoup(html_text_2.text, \"html.parser\")\n",
    "\n",
    "            download_html = html_2.select_one(\".b-file-box > ul\")\n",
    "            if download_html:\n",
    "                download_items = download_html.find_all('li')\n",
    "                download_link = ''\n",
    "                download_title = ''\n",
    "                for item in download_items:\n",
    "                    a_tag = item.find('a')\n",
    "                    if a_tag:\n",
    "                        download_link = url_main + a_tag['href'] + ', ' + download_link\n",
    "                        download_title = a_tag.text.strip() + ', ' + download_title\n",
    "            else:\n",
    "                download_link = ''\n",
    "                download_title = ''\n",
    "\n",
    "            body = html_2.select_one(\".b-content-box\")\n",
    "\n",
    "        except requests.RequestException as e:\n",
    "            print(f\"Error fetching {link}: {e}\")\n",
    "\n",
    "        news_list.append({\n",
    "            \"id\" : news_ID,\n",
    "            \"newsTitle\": str(title),\n",
    "            \"newsWriter\": str(writer),\n",
    "            \"newsLink\": str(link),\n",
    "            \"newsDate\": str(date),\n",
    "            \"newsViews\": str(views),\n",
    "            \"newsBody\" : str(body),\n",
    "            \"newsDownloadLink\": str(download_link),\n",
    "            \"newsDownloadTitle\" : str(download_title)\n",
    "        })\n",
    "\n",
    "api_url = \"http://localhost:8080/news/addNews\"\n",
    "response = requests.post(api_url, json=news_list)\n",
    "\n",
    "if response.status_code == 201:\n",
    "    print(\"Notices successfully added.\")\n",
    "else:\n",
    "    print(\"Failed to add notices.\")\n"
   ]
  }
 ],
 "metadata": {
  "kernelspec": {
   "display_name": "Python 3",
   "language": "python",
   "name": "python3"
  },
  "language_info": {
   "codemirror_mode": {
    "name": "ipython",
    "version": 3
   },
   "file_extension": ".py",
   "mimetype": "text/x-python",
   "name": "python",
   "nbconvert_exporter": "python",
   "pygments_lexer": "ipython3",
   "version": "3.13.2"
  }
 },
 "nbformat": 4,
 "nbformat_minor": 5
}
